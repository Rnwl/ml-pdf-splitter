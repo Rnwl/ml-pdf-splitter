{
 "cells": [
  {
   "cell_type": "code",
   "execution_count": null,
   "metadata": {},
   "outputs": [],
   "source": [
    "import requests"
   ]
  },
  {
   "cell_type": "code",
   "execution_count": 8,
   "metadata": {},
   "outputs": [],
   "source": [
    "service_url=\"http://ml-pdf-splitter.rnwl-backend-services.local:5006\" #Run on development server in test environment (development-test)\n",
    "# service_url=\"http://localhost:5006\""
   ]
  },
  {
   "cell_type": "code",
   "execution_count": 9,
   "metadata": {},
   "outputs": [
    {
     "data": {
      "text/plain": [
       "b'\"OK\"'"
      ]
     },
     "execution_count": 9,
     "metadata": {},
     "output_type": "execute_result"
    }
   ],
   "source": [
    "requests.get(f'{service_url}/status').content"
   ]
  },
  {
   "cell_type": "code",
   "execution_count": 10,
   "metadata": {},
   "outputs": [
    {
     "data": {
      "text/plain": [
       "b'[{\"name\":\"Audio, navigation or entertainment equipment\",\"value\":null,\"extractedText\":\"\",\"fileName\":\"unknown\",\"insuranceType\":\"car\",\"promptId\":\"1.0class_1.0common_1.0template\",\"modelId\":\"gpt-3.5-turbo-16k\",\"textExtractorId\":\"$LATEST\"},{\"name\":\"Breakdown\",\"value\":\"False\",\"extractedText\":\"policy upgrades, such as Breakdown Cover.\",\"fileName\":\"resultId_0b679ebc-a2d3-45a3-875d-a94239377ec1_Admiral Motor Cover IPID(1).pdf\",\"insuranceType\":\"car\",\"promptId\":\"1.0class_1.0common_1.0template\",\"modelId\":\"gpt-3.5-turbo-16k\",\"textExtractorId\":\"$LATEST\"},{\"name\":\"Driving abroad\",\"value\":\"90 days\",\"extractedText\":\"described in your Certificate of Motor Insurance for 90 days when travelling in any country which is a member of the European Union, Norway, Switzerland, Iceland, Andorra and Liechtenstein.\",\"fileName\":\"resultId_0b679ebc-a2d3-45a3-875d-a94239377ec1_Admiral Motor Cover IPID(1).pdf\",\"insuranceType\":\"car\",\"promptId\":\"1.0class_1.0common_1.0template\",\"modelId\":\"gpt-3.5-turbo-16k\",\"textExtractorId\":\"$LATEST\"},{\"name\":\"Personal belongings\",\"value\":\"\\xc2\\xa31,500\",\"extractedText\":\"Section 4 - Personal Belongings and Money Baggage ** \\xc2\\xa31,500 \\xc2\\xa32,000 \\xc2\\xa33,000\",\"fileName\":\"resultId_02565818-e282-42f7-a1fc-60d2831eb0fb_S&P IDOL Policy Wording 0922.pdf\",\"insuranceType\":\"car\",\"promptId\":\"1.0class_1.0common_1.0template\",\"modelId\":\"gpt-3.5-turbo-16k\",\"textExtractorId\":\"$LATEST\"},{\"name\":\"Personal accident\",\"value\":\"\\xc2\\xa310,000\",\"extractedText\":\"Section 6 - Personal Accident Death (aged 18 or over) \\xc2\\xa310,000 \\xc2\\xa310,000 \\xc2\\xa320,000\",\"fileName\":\"resultId_02565818-e282-42f7-a1fc-60d2831eb0fb_S&P IDOL Policy Wording 0922.pdf\",\"insuranceType\":\"car\",\"promptId\":\"1.0class_1.0common_1.0template\",\"modelId\":\"gpt-3.5-turbo-16k\",\"textExtractorId\":\"$LATEST\"},{\"name\":\"Legal assistance\",\"value\":\"\\xc2\\xa320,000\",\"extractedText\":\"Legal expenses and assistance * \\xc2\\xa320,000 \\xc2\\xa325,000 \\xc2\\xa335,000\",\"fileName\":\"resultId_02565818-e282-42f7-a1fc-60d2831eb0fb_S&P IDOL Policy Wording 0922.pdf\",\"insuranceType\":\"car\",\"promptId\":\"1.0class_1.0common_1.0template\",\"modelId\":\"gpt-3.5-turbo-16k\",\"textExtractorId\":\"$LATEST\"},{\"name\":\"Adjustment fee\",\"value\":null,\"extractedText\":\"\",\"fileName\":\"unknown\",\"insuranceType\":\"car\",\"promptId\":\"1.0class_1.0common_1.0template\",\"modelId\":\"gpt-3.5-turbo-16k\",\"textExtractorId\":\"$LATEST\"},{\"name\":\"Locks & keys\",\"value\":\"\\xc2\\xa3300\",\"extractedText\":\"If you lose your car keys or if they\\xe2\\x80\\x99re stolen from somewhere other than your car, we\\xe2\\x80\\x99ll pay you up to \\xc2\\xa3300 to replace the locks.\",\"fileName\":\"resultId_0b679ebc-a2d3-45a3-875d-a94239377ec1_Admiral Motor Cover IPID(1).pdf\",\"insuranceType\":\"car\",\"promptId\":\"1.0class_1.0common_1.0template\",\"modelId\":\"gpt-3.5-turbo-16k\",\"textExtractorId\":\"$LATEST\"},{\"name\":\"Cancellation fee\",\"value\":\"65% of the premium paid\",\"extractedText\":\"If you cancel a single trip policy after the first 14 days of receipt of the documents, we refund 65% of the premium paid, providing you have not travelled and made a claim or intend to make a claim.\",\"fileName\":\"resultId_02565818-e282-42f7-a1fc-60d2831eb0fb_S&P IDOL Policy Wording 0922.pdf\",\"insuranceType\":\"car\",\"promptId\":\"1.0class_1.0common_1.0template\",\"modelId\":\"gpt-3.5-turbo-16k\",\"textExtractorId\":\"$LATEST\"},{\"name\":\"Courtesy car\",\"value\":\"not provided if yours is stolen or is a total loss\",\"extractedText\":\"A courtesy car is not provided if yours is stolen or is a total loss.\",\"fileName\":\"resultId_0b679ebc-a2d3-45a3-875d-a94239377ec1_Admiral Motor Cover IPID(1).pdf\",\"insuranceType\":\"car\",\"promptId\":\"1.0class_1.0common_1.0template\",\"modelId\":\"gpt-3.5-turbo-16k\",\"textExtractorId\":\"$LATEST\"}]'"
      ]
     },
     "execution_count": 10,
     "metadata": {},
     "output_type": "execute_result"
    }
   ],
   "source": [
    "from pydantic import BaseModel\n",
    "\n",
    "class PolicySummaryRequest(BaseModel):\n",
    "    fileNames: list\n",
    "    insuranceType: str\n",
    "\n",
    "test_s3_filenames = [s3_uri.s3_object for s3_uri in test_s3_uris]\n",
    "policy_summary_request = PolicySummaryRequest(fileNames=test_s3_filenames, insuranceType='car')\n",
    "\n",
    "\n",
    "response = requests.post(f'{service_url}/extract/', json=policy_summary_request.model_dump())\n",
    "response.content"
   ]
  },
  {
   "cell_type": "code",
   "execution_count": null,
   "metadata": {},
   "outputs": [
    {
     "data": {
      "text/plain": [
       "[{'name': 'Breakdown',\n",
       "  'value': 'False',\n",
       "  'extractedText': 'policy upgrades, such as Breakdown Cover.',\n",
       "  'fileName': 'resultId_0b679ebc-a2d3-45a3-875d-a94239377ec1_Admiral Motor Cover IPID(1).pdf',\n",
       "  'insuranceType': 'car',\n",
       "  'promptId': '1.0class_1.0common_1.0template',\n",
       "  'modelId': 'gpt-3.5-turbo-16k',\n",
       "  'textExtractorId': '$LATEST'},\n",
       " {'name': 'Audio, navigation or entertainment equipment',\n",
       "  'value': None,\n",
       "  'extractedText': '',\n",
       "  'fileName': 'unknown',\n",
       "  'insuranceType': 'car',\n",
       "  'promptId': '1.0class_1.0common_1.0template',\n",
       "  'modelId': 'gpt-3.5-turbo-16k',\n",
       "  'textExtractorId': '$LATEST'},\n",
       " {'name': 'Legal assistance',\n",
       "  'value': '£20,000',\n",
       "  'extractedText': 'Legal expenses and assistance * £20,000 £25,000 £35,000',\n",
       "  'fileName': 'resultId_02565818-e282-42f7-a1fc-60d2831eb0fb_S&P IDOL Policy Wording 0922.pdf',\n",
       "  'insuranceType': 'car',\n",
       "  'promptId': '1.0class_1.0common_1.0template',\n",
       "  'modelId': 'gpt-3.5-turbo-16k',\n",
       "  'textExtractorId': '$LATEST'},\n",
       " {'name': 'Personal belongings',\n",
       "  'value': '£1,500',\n",
       "  'extractedText': 'Section 4 - Personal Belongings and Money Baggage ** £1,500 £2,000 £3,000',\n",
       "  'fileName': 'resultId_02565818-e282-42f7-a1fc-60d2831eb0fb_S&P IDOL Policy Wording 0922.pdf',\n",
       "  'insuranceType': 'car',\n",
       "  'promptId': '1.0class_1.0common_1.0template',\n",
       "  'modelId': 'gpt-3.5-turbo-16k',\n",
       "  'textExtractorId': '$LATEST'},\n",
       " {'name': 'Driving abroad',\n",
       "  'value': '90 days',\n",
       "  'extractedText': 'described in your Certificate of Motor Insurance for 90 days when travelling in any country which is a member of the European Union, Norway, Switzerland, Iceland, Andorra and Liechtenstein.',\n",
       "  'fileName': 'resultId_0b679ebc-a2d3-45a3-875d-a94239377ec1_Admiral Motor Cover IPID(1).pdf',\n",
       "  'insuranceType': 'car',\n",
       "  'promptId': '1.0class_1.0common_1.0template',\n",
       "  'modelId': 'gpt-3.5-turbo-16k',\n",
       "  'textExtractorId': '$LATEST'},\n",
       " {'name': 'Personal accident',\n",
       "  'value': '£10,000',\n",
       "  'extractedText': 'Section 6 - Personal Accident Death (aged 18 or over) £10,000 £10,000 £20,000',\n",
       "  'fileName': 'resultId_02565818-e282-42f7-a1fc-60d2831eb0fb_S&P IDOL Policy Wording 0922.pdf',\n",
       "  'insuranceType': 'car',\n",
       "  'promptId': '1.0class_1.0common_1.0template',\n",
       "  'modelId': 'gpt-3.5-turbo-16k',\n",
       "  'textExtractorId': '$LATEST'},\n",
       " {'name': 'Adjustment fee',\n",
       "  'value': None,\n",
       "  'extractedText': '',\n",
       "  'fileName': 'unknown',\n",
       "  'insuranceType': 'car',\n",
       "  'promptId': '1.0class_1.0common_1.0template',\n",
       "  'modelId': 'gpt-3.5-turbo-16k',\n",
       "  'textExtractorId': '$LATEST'},\n",
       " {'name': 'Locks & keys',\n",
       "  'value': '£300',\n",
       "  'extractedText': 'If you lose your car keys or if they’re stolen from somewhere other than your car, we’ll pay you up to £300 to replace the locks.',\n",
       "  'fileName': 'resultId_0b679ebc-a2d3-45a3-875d-a94239377ec1_Admiral Motor Cover IPID(1).pdf',\n",
       "  'insuranceType': 'car',\n",
       "  'promptId': '1.0class_1.0common_1.0template',\n",
       "  'modelId': 'gpt-3.5-turbo-16k',\n",
       "  'textExtractorId': '$LATEST'},\n",
       " {'name': 'Courtesy car',\n",
       "  'value': 'not provided if yours is stolen or is a total loss',\n",
       "  'extractedText': 'A courtesy car is not provided if yours is stolen or is a total loss.',\n",
       "  'fileName': 'resultId_0b679ebc-a2d3-45a3-875d-a94239377ec1_Admiral Motor Cover IPID(1).pdf',\n",
       "  'insuranceType': 'car',\n",
       "  'promptId': '1.0class_1.0common_1.0template',\n",
       "  'modelId': 'gpt-3.5-turbo-16k',\n",
       "  'textExtractorId': '$LATEST'},\n",
       " {'name': 'Cancellation fee',\n",
       "  'value': '65% of the premium paid',\n",
       "  'extractedText': 'If you cancel a single trip policy after the first 14 days of receipt of the documents, we refund 65% of the premium paid, providing you have not travelled and made a claim or intend to make a claim.',\n",
       "  'fileName': 'resultId_02565818-e282-42f7-a1fc-60d2831eb0fb_S&P IDOL Policy Wording 0922.pdf',\n",
       "  'insuranceType': 'car',\n",
       "  'promptId': '1.0class_1.0common_1.0template',\n",
       "  'modelId': 'gpt-3.5-turbo-16k',\n",
       "  'textExtractorId': '$LATEST'}]"
      ]
     },
     "metadata": {},
     "output_type": "display_data"
    }
   ],
   "source": [
    "import json\n",
    "json.loads(response.content)"
   ]
  },
  {
   "cell_type": "code",
   "execution_count": null,
   "metadata": {},
   "outputs": [],
   "source": []
  }
 ],
 "metadata": {
  "kernelspec": {
   "display_name": "ml-policy-summary-QfHojvpd",
   "language": "python",
   "name": "python3"
  },
  "language_info": {
   "codemirror_mode": {
    "name": "ipython",
    "version": 3
   },
   "file_extension": ".py",
   "mimetype": "text/x-python",
   "name": "python",
   "nbconvert_exporter": "python",
   "pygments_lexer": "ipython3",
   "version": "3.11.2"
  }
 },
 "nbformat": 4,
 "nbformat_minor": 2
}
