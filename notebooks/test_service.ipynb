{
 "cells": [
  {
   "cell_type": "markdown",
   "metadata": {},
   "source": [
    "# Azure"
   ]
  },
  {
   "cell_type": "markdown",
   "metadata": {},
   "source": [
    "## Test Only the Azure Function"
   ]
  },
  {
   "cell_type": "code",
   "execution_count": 56,
   "metadata": {},
   "outputs": [],
   "source": [
    "import requests\n",
    "from dotenv import load_dotenv\n",
    "import os\n",
    "load_dotenv(\"../src/.env\")\n",
    "function_endpoint=os.getenv(\"PDF2TXT_FUNCTION_URL\")"
   ]
  },
  {
   "cell_type": "code",
   "execution_count": 57,
   "metadata": {},
   "outputs": [],
   "source": [
    "import fitz\n",
    "\n",
    "def split_pdf_bytes(file_bytes, window_size: int = 10):\n",
    "    \"\"\"\n",
    "    Split a PDF file into smaller chunks of specified window size.\n",
    "\n",
    "    Args:\n",
    "        file_bytes (bytes): The PDF file as bytes.\n",
    "        window_size (int): Number of pages per chunk. Defaults to WINDOW_SIZE.\n",
    "\n",
    "    Yields:\n",
    "        bytes: Chunks of the PDF file, each containing up to window_size pages.\n",
    "    \"\"\"\n",
    "    doc = fitz.open(stream=file_bytes, filetype=\"pdf\")\n",
    "    for i in range(0, len(doc), window_size):\n",
    "        new_doc = fitz.open()\n",
    "        new_doc.insert_pdf(\n",
    "            doc,\n",
    "            from_page=i,\n",
    "            to_page=min(i + window_size - 1, len(doc) - 1),\n",
    "            annots=False,\n",
    "            links=False,\n",
    "        )\n",
    "        yield new_doc.tobytes()"
   ]
  },
  {
   "cell_type": "code",
   "execution_count": 58,
   "metadata": {},
   "outputs": [],
   "source": [
    "import requests\n",
    "import base64\n",
    "\n",
    "# Usage example\n",
    "pdf_path = '../data/lorem_ipsum.pdf'\n",
    "\n",
    "# Read PDF file as bytes\n",
    "with open(pdf_path, 'rb') as file:\n",
    "    pdf_bytes = file.read()\n",
    "\n",
    "split_bytes = split_pdf_bytes(pdf_bytes)\n",
    "pdf_chunk = next(split_bytes)\n",
    "\n",
    "# Convert to base64\n",
    "pdf_chunk64 = base64.b64encode(pdf_chunk).decode('utf-8')\n",
    "\n",
    "# Prepare headers\n",
    "headers = {\n",
    "    'Content-Type': 'application/json'\n",
    "}\n",
    "\n",
    "# Make request\n",
    "response = requests.post(\n",
    "    function_endpoint,\n",
    "    json={'pdf_data': pdf_chunk64},\n",
    "    headers=headers\n",
    ")\n",
    "\n",
    "# Check if request was successful\n",
    "response.raise_for_status()"
   ]
  },
  {
   "cell_type": "code",
   "execution_count": 60,
   "metadata": {},
   "outputs": [
    {
     "name": "stdout",
     "output_type": "stream",
     "text": [
      "Test document PDF \n",
      " \n",
      "Lorem ipsum dolor sit amet, consectetur adipiscing elit. Nulla est purus, ultrices in porttitor \n",
      "in, accumsan non quam. Nam consectetur porttitor rhoncus. Curabitur eu est et leo feugiat \n",
      "auctor vel quis lorem. Ut et ligula dolor, sit amet consequat lorem. Aliquam porta eros sed \n",
      "velit imperdiet egestas. Maecenas tempus eros ut diam ullamcorper id dictum libero \n",
      "tempor. Donec quis augue quis magna condimentum lobortis. Quisque imperdiet ipsum vel \n",
      "magna viverra rutrum. Cras viverra molestie urna, vitae vestibulum turpis varius id. \n",
      "Vestibulum mollis, arcu iaculis bibendum varius, velit sapien blandit metus, ac posuere lorem \n",
      "nulla ac dolor. Maecenas urna elit, tincidunt in dapibus nec, vehicula eu dui. Duis lacinia \n",
      "fringilla massa. Cum sociis natoque penatibus et magnis dis parturient montes, nascetur \n",
      "ridiculus mus. Ut consequat ultricies est, non rhoncus mauris congue porta. Vivamus viverra \n",
      "suscipit felis eget condimentum. Cum sociis natoque penatibus et magnis dis parturient \n",
      "montes, nascetur ridiculus mus. Integer bibendum sagittis ligula, non faucibus nulla volutpat \n",
      "vitae. Cum sociis natoque penatibus et magnis dis parturient montes, nascetur ridiculus mus.  \n",
      "In aliquet quam et velit bibendum accumsan. Cum sociis natoque penatibus et magnis dis \n",
      "parturient montes, nascetur ridiculus mus. Vestibulum vitae ipsum nec arcu semper \n",
      "adipiscing at ac lacus. Praesent id pellentesque orci. Morbi congue viverra nisl nec rhoncus. \n",
      "Integer mattis, ipsum a tincidunt commodo, lacus arcu elementum elit, at mollis eros ante ac \n",
      "risus. In volutpat, ante at pretium ultricies, velit magna suscipit enim, aliquet blandit massa \n",
      "orci nec lorem. Nulla facilisi. Duis eu vehicula arcu. Nulla facilisi. Maecenas pellentesque \n",
      "volutpat felis, quis tristique ligula luctus vel. Sed nec mi eros. Integer augue enim, sollicitudin \n",
      "ullamcorper mattis eget, aliquam in est. Morbi sollicitudin libero nec augue dignissim ut \n",
      "consectetur dui volutpat. Nulla facilisi. Mauris egestas vestibulum neque cursus tincidunt. \n",
      "Donec sit amet pulvinar orci.  \n",
      "Quisque volutpat pharetra tincidunt. Fusce sapien arcu, molestie eget varius egestas, \n",
      "faucibus ac urna. Sed at nisi in velit egestas aliquam ut a felis. Aenean malesuada iaculis nisl, \n",
      "ut tempor lacus egestas consequat. Nam nibh lectus, gravida sed egestas ut, feugiat quis \n",
      "dolor. Donec eu leo enim, non laoreet ante. Morbi dictum tempor vulputate. Phasellus \n",
      "ultricies risus vel augue sagittis euismod. Vivamus tincidunt placerat nisi in aliquam. Cras \n",
      "quis mi ac nunc pretium aliquam. Aenean elementum erat ac metus commodo rhoncus. \n",
      "Aliquam nulla augue, porta non sagittis quis, accumsan vitae sem. Phasellus id lectus tortor, \n",
      "eget pulvinar augue. Etiam eget velit ac purus fringilla blandit. Donec odio odio, sagittis sed \n",
      "iaculis sed, consectetur eget sem. Lorem ipsum dolor sit amet, consectetur adipiscing elit. \n",
      "Maecenas accumsan velit vel turpis rutrum in sodales diam placerat.  \n",
      "Quisque luctus ullamcorper velit sit amet lobortis. Etiam ligula felis, vulputate quis rhoncus \n",
      "nec, fermentum eget odio. Vivamus vel ipsum ac augue sodales mollis euismod nec tellus. \n",
      "Fusce et augue rutrum nunc semper vehicula vel semper nisl. Nam laoreet euismod quam at \n",
      "varius. Sed aliquet auctor nibh. Curabitur malesuada fermentum lacus vel accumsan. Duis \n",
      "ornare scelerisque nulla, ac pulvinar ligula tempus sit amet. In placerat nulla ac ante \n",
      "scelerisque posuere. Phasellus at ante felis. Sed hendrerit risus a metus posuere rutrum. \n",
      "Phasellus eu augue dui. Proin in vestibulum ipsum. Aenean accumsan mollis sapien, ut \n",
      "eleifend sem blandit at. Vivamus luctus mi eget lorem lobortis pharetra. Phasellus at tortor \n",
      "quam, a volutpat purus. Etiam sollicitudin arcu vel elit bibendum et imperdiet risus tincidunt. \n",
      "Etiam elit velit, posuere ut pulvinar ac, condimentum eget justo. Fusce a erat velit. Vivamus \n",
      "imperdiet ultrices orci in hendrerit.  \n",
      "\n"
     ]
    }
   ],
   "source": [
    "print(response.json()['text'])"
   ]
  },
  {
   "cell_type": "markdown",
   "metadata": {},
   "source": [
    "## Container Apps Splitter + Extraction Azure Function\n"
   ]
  },
  {
   "cell_type": "code",
   "execution_count": 3,
   "metadata": {},
   "outputs": [],
   "source": [
    "import requests\n",
    "from dotenv import load_dotenv\n",
    "import os\n",
    "load_dotenv(\"../.env\")\n",
    "app_api_key=os.getenv(\"PDF_SPLITTER_API_KEY\")"
   ]
  },
  {
   "cell_type": "code",
   "execution_count": null,
   "metadata": {},
   "outputs": [],
   "source": [
    "service_url=\"https://ml-pdf-splitter-contapp.ashygrass-329b8f02.uksouth.azurecontainerapps.io\"\n",
    "#service_url=\"http://localhost:5006\""
   ]
  },
  {
   "cell_type": "markdown",
   "metadata": {},
   "source": [
    "#### APP API STATUS CHECK"
   ]
  },
  {
   "cell_type": "code",
   "execution_count": 5,
   "metadata": {},
   "outputs": [
    {
     "name": "stdout",
     "output_type": "stream",
     "text": [
      "Sending GET request to https://ml-pdf-splitter-contapp.ashygrass-329b8f02.uksouth.azurecontainerapps.io/status\n",
      "200 {'status': 'OK'}\n"
     ]
    }
   ],
   "source": [
    "print(f\"Sending GET request to {service_url}/status\")\n",
    "resp = requests.get(\n",
    "    f'{service_url}/status',\n",
    "    headers={\n",
    "        \"X-API-Key\": app_api_key\n",
    "    },\n",
    "    timeout=5\n",
    ")\n",
    "\n",
    "print(resp.status_code, resp.json())  # {'status':'OK'}"
   ]
  },
  {
   "cell_type": "markdown",
   "metadata": {},
   "source": [
    "#### CHECK STATUS OF FUNCTION VIA APP"
   ]
  },
  {
   "cell_type": "code",
   "execution_count": 21,
   "metadata": {},
   "outputs": [
    {
     "name": "stdout",
     "output_type": "stream",
     "text": [
      "Sending GET request to https://ml-pdf-splitter-contapp.ashygrass-329b8f02.uksouth.azurecontainerapps.io/function_status\n",
      "______________________________\n",
      " EXTRACTED TEXT: \n",
      " Test document PDF \n",
      " \n",
      "Lorem ipsum dolor sit amet, consectetur adipiscing elit. Nulla est purus, ultrices in porttitor \n",
      "in, accumsan non quam. Nam consectetur porttitor rhoncus. Curabitur eu est et leo feugiat \n",
      "auctor vel quis lorem. Ut et ligula dolor, sit amet consequat lorem. Aliquam porta eros sed \n",
      "velit imperdiet egestas. Maecenas tempus eros ut diam ullamcorper id dictum libero \n",
      "tempor. Donec quis augue quis magna condimentum lobortis. Quisque imperdiet ipsum vel \n",
      "magna viverra rutrum. Cras viverra molestie urna, vitae vestibulum turpis varius id. \n",
      "Vestibulum mollis, arcu iaculis bibendum varius, velit sapien blandit metus, ac posuere lorem \n",
      "nulla ac dolor. Maecenas urna elit, tincidunt in dapibus nec, vehicula eu dui. Duis lacinia \n",
      "fringilla massa. Cum sociis natoque penatibus et magnis dis parturient montes, nascetur \n",
      "ridiculus mus. Ut consequat ultricies est, non rhoncus mauris congue porta. Vivamus viverra \n",
      "suscipit felis eget condimentum. Cum sociis natoque penatibus et magnis dis parturient \n",
      "montes, nascetur ridiculus mus. Integer bibendum sagittis ligula, non faucibus nulla volutpat \n",
      "vitae. Cum sociis natoque penatibus et magnis dis parturient montes, nascetur ridiculus mus.  \n",
      "In aliquet quam et velit bibendum accumsan. Cum sociis natoque penatibus et magnis dis \n",
      "parturient montes, nascetur ridiculus mus. Vestibulum vitae ipsum nec arcu semper \n",
      "adipiscing at ac lacus. Praesent id pellentesque orci. Morbi congue viverra nisl nec rhoncus. \n",
      "Integer mattis, ipsum a tincidunt commodo, lacus arcu elementum elit, at mollis eros ante ac \n",
      "risus. In volutpat, ante at pretium ultricies, velit magna suscipit enim, aliquet blandit massa \n",
      "orci nec lorem. Nulla facilisi. Duis eu vehicula arcu. Nulla facilisi. Maecenas pellentesque \n",
      "volutpat felis, quis tristique ligula luctus vel. Sed nec mi eros. Integer augue enim, sollicitudin \n",
      "ullamcorper mattis eget, aliquam in est. Morbi sollicitudin libero nec augue dignissim ut \n",
      "consectetur dui volutpat. Nulla facilisi. Mauris egestas vestibulum neque cursus tincidunt. \n",
      "Donec sit amet pulvinar orci.  \n",
      "Quisque volutpat pharetra tincidunt. Fusce sapien arcu, molestie eget varius egestas, \n",
      "faucibus ac urna. Sed at nisi in velit egestas aliquam ut a felis. Aenean malesuada iaculis nisl, \n",
      "ut tempor lacus egestas consequat. Nam nibh lectus, gravida sed egestas ut, feugiat quis \n",
      "dolor. Donec eu leo enim, non laoreet ante. Morbi dictum tempor vulputate. Phasellus \n",
      "ultricies risus vel augue sagittis euismod. Vivamus tincidunt placerat nisi in aliquam. Cras \n",
      "quis mi ac nunc pretium aliquam. Aenean elementum erat ac metus commodo rhoncus. \n",
      "Aliquam nulla augue, porta non sagittis quis, accumsan vitae sem. Phasellus id lectus tortor, \n",
      "eget pulvinar augue. Etiam eget velit ac purus fringilla blandit. Donec odio odio, sagittis sed \n",
      "iaculis sed, consectetur eget sem. Lorem ipsum dolor sit amet, consectetur adipiscing elit. \n",
      "Maecenas accumsan velit vel turpis rutrum in sodales diam placerat.  \n",
      "Quisque luctus ullamcorper velit sit amet lobortis. Etiam ligula felis, vulputate quis rhoncus \n",
      "nec, fermentum eget odio. Vivamus vel ipsum ac augue sodales mollis euismod nec tellus. \n",
      "Fusce et augue rutrum nunc semper vehicula vel semper nisl. Nam laoreet euismod quam at \n",
      "varius. Sed aliquet auctor nibh. Curabitur malesuada fermentum lacus vel accumsan. Duis \n",
      "ornare scelerisque nulla, ac pulvinar ligula tempus sit amet. In placerat nulla ac ante \n",
      "scelerisque posuere. Phasellus at ante felis. Sed hendrerit risus a metus posuere rutrum. \n",
      "Phasellus eu augue dui. Proin in vestibulum ipsum. Aenean accumsan mollis sapien, ut \n",
      "eleifend sem blandit at. Vivamus luctus mi eget lorem lobortis pharetra. Phasellus at tortor \n",
      "quam, a volutpat purus. Etiam sollicitudin arcu vel elit bibendum et imperdiet risus tincidunt. \n",
      "Etiam elit velit, posuere ut pulvinar ac, condimentum eget justo. Fusce a erat velit. Vivamus \n",
      "imperdiet ultrices orci in hendrerit.  \n",
      "\n",
      "\n",
      "______________________________\n",
      " JSON RESPONSE: \n",
      "\n"
     ]
    },
    {
     "data": {
      "text/plain": [
       "{'status': 'ok',\n",
       " 'message': 'Service is running and can access the PDF extraction API',\n",
       " 'pdf_extraction_api': 'accessible',\n",
       " 'test_response': {'stage': 'test',\n",
       "  'time_taken': 0.010281801223754883,\n",
       "  'pdf_id': 0,\n",
       "  'text': 'Test\\xa0document\\xa0PDF\\xa0\\n\\xa0\\nLorem\\xa0ipsum\\xa0dolor\\xa0sit\\xa0amet,\\xa0consectetur\\xa0adipiscing\\xa0elit.\\xa0Nulla\\xa0est\\xa0purus,\\xa0ultrices\\xa0in\\xa0porttitor\\xa0\\nin,\\xa0accumsan\\xa0non\\xa0quam.\\xa0Nam\\xa0consectetur\\xa0porttitor\\xa0rhoncus.\\xa0Curabitur\\xa0eu\\xa0est\\xa0et\\xa0leo\\xa0feugiat\\xa0\\nauctor\\xa0vel\\xa0quis\\xa0lorem.\\xa0Ut\\xa0et\\xa0ligula\\xa0dolor,\\xa0sit\\xa0amet\\xa0consequat\\xa0lorem.\\xa0Aliquam\\xa0porta\\xa0eros\\xa0sed\\xa0\\nvelit\\xa0imperdiet\\xa0egestas.\\xa0Maecenas\\xa0tempus\\xa0eros\\xa0ut\\xa0diam\\xa0ullamcorper\\xa0id\\xa0dictum\\xa0libero\\xa0\\ntempor.\\xa0Donec\\xa0quis\\xa0augue\\xa0quis\\xa0magna\\xa0condimentum\\xa0lobortis.\\xa0Quisque\\xa0imperdiet\\xa0ipsum\\xa0vel\\xa0\\nmagna\\xa0viverra\\xa0rutrum.\\xa0Cras\\xa0viverra\\xa0molestie\\xa0urna,\\xa0vitae\\xa0vestibulum\\xa0turpis\\xa0varius\\xa0id.\\xa0\\nVestibulum\\xa0mollis,\\xa0arcu\\xa0iaculis\\xa0bibendum\\xa0varius,\\xa0velit\\xa0sapien\\xa0blandit\\xa0metus,\\xa0ac\\xa0posuere\\xa0lorem\\xa0\\nnulla\\xa0ac\\xa0dolor.\\xa0Maecenas\\xa0urna\\xa0elit,\\xa0tincidunt\\xa0in\\xa0dapibus\\xa0nec,\\xa0vehicula\\xa0eu\\xa0dui.\\xa0Duis\\xa0lacinia\\xa0\\nfringilla\\xa0massa.\\xa0Cum\\xa0sociis\\xa0natoque\\xa0penatibus\\xa0et\\xa0magnis\\xa0dis\\xa0parturient\\xa0montes,\\xa0nascetur\\xa0\\nridiculus\\xa0mus.\\xa0Ut\\xa0consequat\\xa0ultricies\\xa0est,\\xa0non\\xa0rhoncus\\xa0mauris\\xa0congue\\xa0porta.\\xa0Vivamus\\xa0viverra\\xa0\\nsuscipit\\xa0felis\\xa0eget\\xa0condimentum.\\xa0Cum\\xa0sociis\\xa0natoque\\xa0penatibus\\xa0et\\xa0magnis\\xa0dis\\xa0parturient\\xa0\\nmontes,\\xa0nascetur\\xa0ridiculus\\xa0mus.\\xa0Integer\\xa0bibendum\\xa0sagittis\\xa0ligula,\\xa0non\\xa0faucibus\\xa0nulla\\xa0volutpat\\xa0\\nvitae.\\xa0Cum\\xa0sociis\\xa0natoque\\xa0penatibus\\xa0et\\xa0magnis\\xa0dis\\xa0parturient\\xa0montes,\\xa0nascetur\\xa0ridiculus\\xa0mus.\\xa0\\xa0\\nIn\\xa0aliquet\\xa0quam\\xa0et\\xa0velit\\xa0bibendum\\xa0accumsan.\\xa0Cum\\xa0sociis\\xa0natoque\\xa0penatibus\\xa0et\\xa0magnis\\xa0dis\\xa0\\nparturient\\xa0montes,\\xa0nascetur\\xa0ridiculus\\xa0mus.\\xa0Vestibulum\\xa0vitae\\xa0ipsum\\xa0nec\\xa0arcu\\xa0semper\\xa0\\nadipiscing\\xa0at\\xa0ac\\xa0lacus.\\xa0Praesent\\xa0id\\xa0pellentesque\\xa0orci.\\xa0Morbi\\xa0congue\\xa0viverra\\xa0nisl\\xa0nec\\xa0rhoncus.\\xa0\\nInteger\\xa0mattis,\\xa0ipsum\\xa0a\\xa0tincidunt\\xa0commodo,\\xa0lacus\\xa0arcu\\xa0elementum\\xa0elit,\\xa0at\\xa0mollis\\xa0eros\\xa0ante\\xa0ac\\xa0\\nrisus.\\xa0In\\xa0volutpat,\\xa0ante\\xa0at\\xa0pretium\\xa0ultricies,\\xa0velit\\xa0magna\\xa0suscipit\\xa0enim,\\xa0aliquet\\xa0blandit\\xa0massa\\xa0\\norci\\xa0nec\\xa0lorem.\\xa0Nulla\\xa0facilisi.\\xa0Duis\\xa0eu\\xa0vehicula\\xa0arcu.\\xa0Nulla\\xa0facilisi.\\xa0Maecenas\\xa0pellentesque\\xa0\\nvolutpat\\xa0felis,\\xa0quis\\xa0tristique\\xa0ligula\\xa0luctus\\xa0vel.\\xa0Sed\\xa0nec\\xa0mi\\xa0eros.\\xa0Integer\\xa0augue\\xa0enim,\\xa0sollicitudin\\xa0\\nullamcorper\\xa0mattis\\xa0eget,\\xa0aliquam\\xa0in\\xa0est.\\xa0Morbi\\xa0sollicitudin\\xa0libero\\xa0nec\\xa0augue\\xa0dignissim\\xa0ut\\xa0\\nconsectetur\\xa0dui\\xa0volutpat.\\xa0Nulla\\xa0facilisi.\\xa0Mauris\\xa0egestas\\xa0vestibulum\\xa0neque\\xa0cursus\\xa0tincidunt.\\xa0\\nDonec\\xa0sit\\xa0amet\\xa0pulvinar\\xa0orci.\\xa0\\xa0\\nQuisque\\xa0volutpat\\xa0pharetra\\xa0tincidunt.\\xa0Fusce\\xa0sapien\\xa0arcu,\\xa0molestie\\xa0eget\\xa0varius\\xa0egestas,\\xa0\\nfaucibus\\xa0ac\\xa0urna.\\xa0Sed\\xa0at\\xa0nisi\\xa0in\\xa0velit\\xa0egestas\\xa0aliquam\\xa0ut\\xa0a\\xa0felis.\\xa0Aenean\\xa0malesuada\\xa0iaculis\\xa0nisl,\\xa0\\nut\\xa0tempor\\xa0lacus\\xa0egestas\\xa0consequat.\\xa0Nam\\xa0nibh\\xa0lectus,\\xa0gravida\\xa0sed\\xa0egestas\\xa0ut,\\xa0feugiat\\xa0quis\\xa0\\ndolor.\\xa0Donec\\xa0eu\\xa0leo\\xa0enim,\\xa0non\\xa0laoreet\\xa0ante.\\xa0Morbi\\xa0dictum\\xa0tempor\\xa0vulputate.\\xa0Phasellus\\xa0\\nultricies\\xa0risus\\xa0vel\\xa0augue\\xa0sagittis\\xa0euismod.\\xa0Vivamus\\xa0tincidunt\\xa0placerat\\xa0nisi\\xa0in\\xa0aliquam.\\xa0Cras\\xa0\\nquis\\xa0mi\\xa0ac\\xa0nunc\\xa0pretium\\xa0aliquam.\\xa0Aenean\\xa0elementum\\xa0erat\\xa0ac\\xa0metus\\xa0commodo\\xa0rhoncus.\\xa0\\nAliquam\\xa0nulla\\xa0augue,\\xa0porta\\xa0non\\xa0sagittis\\xa0quis,\\xa0accumsan\\xa0vitae\\xa0sem.\\xa0Phasellus\\xa0id\\xa0lectus\\xa0tortor,\\xa0\\neget\\xa0pulvinar\\xa0augue.\\xa0Etiam\\xa0eget\\xa0velit\\xa0ac\\xa0purus\\xa0fringilla\\xa0blandit.\\xa0Donec\\xa0odio\\xa0odio,\\xa0sagittis\\xa0sed\\xa0\\niaculis\\xa0sed,\\xa0consectetur\\xa0eget\\xa0sem.\\xa0Lorem\\xa0ipsum\\xa0dolor\\xa0sit\\xa0amet,\\xa0consectetur\\xa0adipiscing\\xa0elit.\\xa0\\nMaecenas\\xa0accumsan\\xa0velit\\xa0vel\\xa0turpis\\xa0rutrum\\xa0in\\xa0sodales\\xa0diam\\xa0placerat.\\xa0\\xa0\\nQuisque\\xa0luctus\\xa0ullamcorper\\xa0velit\\xa0sit\\xa0amet\\xa0lobortis.\\xa0Etiam\\xa0ligula\\xa0felis,\\xa0vulputate\\xa0quis\\xa0rhoncus\\xa0\\nnec,\\xa0fermentum\\xa0eget\\xa0odio.\\xa0Vivamus\\xa0vel\\xa0ipsum\\xa0ac\\xa0augue\\xa0sodales\\xa0mollis\\xa0euismod\\xa0nec\\xa0tellus.\\xa0\\nFusce\\xa0et\\xa0augue\\xa0rutrum\\xa0nunc\\xa0semper\\xa0vehicula\\xa0vel\\xa0semper\\xa0nisl.\\xa0Nam\\xa0laoreet\\xa0euismod\\xa0quam\\xa0at\\xa0\\nvarius.\\xa0Sed\\xa0aliquet\\xa0auctor\\xa0nibh.\\xa0Curabitur\\xa0malesuada\\xa0fermentum\\xa0lacus\\xa0vel\\xa0accumsan.\\xa0Duis\\xa0\\nornare\\xa0scelerisque\\xa0nulla,\\xa0ac\\xa0pulvinar\\xa0ligula\\xa0tempus\\xa0sit\\xa0amet.\\xa0In\\xa0placerat\\xa0nulla\\xa0ac\\xa0ante\\xa0\\nscelerisque\\xa0posuere.\\xa0Phasellus\\xa0at\\xa0ante\\xa0felis.\\xa0Sed\\xa0hendrerit\\xa0risus\\xa0a\\xa0metus\\xa0posuere\\xa0rutrum.\\xa0\\nPhasellus\\xa0eu\\xa0augue\\xa0dui.\\xa0Proin\\xa0in\\xa0vestibulum\\xa0ipsum.\\xa0Aenean\\xa0accumsan\\xa0mollis\\xa0sapien,\\xa0ut\\xa0\\neleifend\\xa0sem\\xa0blandit\\xa0at.\\xa0Vivamus\\xa0luctus\\xa0mi\\xa0eget\\xa0lorem\\xa0lobortis\\xa0pharetra.\\xa0Phasellus\\xa0at\\xa0tortor\\xa0\\nquam,\\xa0a\\xa0volutpat\\xa0purus.\\xa0Etiam\\xa0sollicitudin\\xa0arcu\\xa0vel\\xa0elit\\xa0bibendum\\xa0et\\xa0imperdiet\\xa0risus\\xa0tincidunt.\\xa0\\nEtiam\\xa0elit\\xa0velit,\\xa0posuere\\xa0ut\\xa0pulvinar\\xa0ac,\\xa0condimentum\\xa0eget\\xa0justo.\\xa0Fusce\\xa0a\\xa0erat\\xa0velit.\\xa0Vivamus\\xa0\\nimperdiet\\xa0ultrices\\xa0orci\\xa0in\\xa0hendrerit.\\xa0\\xa0\\n'}}"
      ]
     },
     "execution_count": 21,
     "metadata": {},
     "output_type": "execute_result"
    }
   ],
   "source": [
    "import json\n",
    "print(f\"Sending GET request to {service_url}/function_status\")\n",
    "response = requests.get(\n",
    "    f'{service_url}/function_status',\n",
    "    headers={\n",
    "        \"X-API-Key\": app_api_key\n",
    "    },\n",
    ").content\n",
    "print(\"_\" * 30 + '\\n',\"EXTRACTED TEXT: \\n\", json.loads(response)['test_response']['text'])\n",
    "print(\"\\n\" + \"_\" * 30 + '\\n', \"JSON RESPONSE: \\n\")\n",
    "json.loads(response)\n"
   ]
  },
  {
   "cell_type": "code",
   "execution_count": null,
   "metadata": {},
   "outputs": [
    {
     "name": "stdout",
     "output_type": "stream",
     "text": [
      "Test document PDF \n",
      " \n",
      "Lorem ipsum dolor sit amet, consectetur adipiscing elit. Nulla est purus, ultrices in porttitor \n",
      "in, accumsan non quam. Nam consectetur porttitor rhoncus. Curabitur eu est et leo feugiat \n",
      "auctor vel quis lorem. Ut et ligula dolor, sit amet consequat lorem. Aliquam porta eros sed \n",
      "velit imperdiet egestas. Maecenas tempus eros ut diam ullamcorper id dictum libero \n",
      "tempor. Donec quis augue quis magna condimentum lobortis. Quisque imperdiet ipsum vel \n",
      "magna viverra rutrum. Cras viverra molestie urna, vitae vestibulum turpis varius id. \n",
      "Vestibulum mollis, arcu iaculis bibendum varius, velit sapien blandit metus, ac posuere lorem \n",
      "nulla ac dolor. Maecenas urna elit, tincidunt in dapibus nec, vehicula eu dui. Duis lacinia \n",
      "fringilla massa. Cum sociis natoque penatibus et magnis dis parturient montes, nascetur \n",
      "ridiculus mus. Ut consequat ultricies est, non rhoncus mauris congue porta. Vivamus viverra \n",
      "suscipit felis eget condimentum. Cum sociis natoque penatibus et magnis dis parturient \n",
      "montes, nascetur ridiculus mus. Integer bibendum sagittis ligula, non faucibus nulla volutpat \n",
      "vitae. Cum sociis natoque penatibus et magnis dis parturient montes, nascetur ridiculus mus.  \n",
      "In aliquet quam et velit bibendum accumsan. Cum sociis natoque penatibus et magnis dis \n",
      "parturient montes, nascetur ridiculus mus. Vestibulum vitae ipsum nec arcu semper \n",
      "adipiscing at ac lacus. Praesent id pellentesque orci. Morbi congue viverra nisl nec rhoncus. \n",
      "Integer mattis, ipsum a tincidunt commodo, lacus arcu elementum elit, at mollis eros ante ac \n",
      "risus. In volutpat, ante at pretium ultricies, velit magna suscipit enim, aliquet blandit massa \n",
      "orci nec lorem. Nulla facilisi. Duis eu vehicula arcu. Nulla facilisi. Maecenas pellentesque \n",
      "volutpat felis, quis tristique ligula luctus vel. Sed nec mi eros. Integer augue enim, sollicitudin \n",
      "ullamcorper mattis eget, aliquam in est. Morbi sollicitudin libero nec augue dignissim ut \n",
      "consectetur dui volutpat. Nulla facilisi. Mauris egestas vestibulum neque cursus tincidunt. \n",
      "Donec sit amet pulvinar orci.  \n",
      "Quisque volutpat pharetra tincidunt. Fusce sapien arcu, molestie eget varius egestas, \n",
      "faucibus ac urna. Sed at nisi in velit egestas aliquam ut a felis. Aenean malesuada iaculis nisl, \n",
      "ut tempor lacus egestas consequat. Nam nibh lectus, gravida sed egestas ut, feugiat quis \n",
      "dolor. Donec eu leo enim, non laoreet ante. Morbi dictum tempor vulputate. Phasellus \n",
      "ultricies risus vel augue sagittis euismod. Vivamus tincidunt placerat nisi in aliquam. Cras \n",
      "quis mi ac nunc pretium aliquam. Aenean elementum erat ac metus commodo rhoncus. \n",
      "Aliquam nulla augue, porta non sagittis quis, accumsan vitae sem. Phasellus id lectus tortor, \n",
      "eget pulvinar augue. Etiam eget velit ac purus fringilla blandit. Donec odio odio, sagittis sed \n",
      "iaculis sed, consectetur eget sem. Lorem ipsum dolor sit amet, consectetur adipiscing elit. \n",
      "Maecenas accumsan velit vel turpis rutrum in sodales diam placerat.  \n",
      "Quisque luctus ullamcorper velit sit amet lobortis. Etiam ligula felis, vulputate quis rhoncus \n",
      "nec, fermentum eget odio. Vivamus vel ipsum ac augue sodales mollis euismod nec tellus. \n",
      "Fusce et augue rutrum nunc semper vehicula vel semper nisl. Nam laoreet euismod quam at \n",
      "varius. Sed aliquet auctor nibh. Curabitur malesuada fermentum lacus vel accumsan. Duis \n",
      "ornare scelerisque nulla, ac pulvinar ligula tempus sit amet. In placerat nulla ac ante \n",
      "scelerisque posuere. Phasellus at ante felis. Sed hendrerit risus a metus posuere rutrum. \n",
      "Phasellus eu augue dui. Proin in vestibulum ipsum. Aenean accumsan mollis sapien, ut \n",
      "eleifend sem blandit at. Vivamus luctus mi eget lorem lobortis pharetra. Phasellus at tortor \n",
      "quam, a volutpat purus. Etiam sollicitudin arcu vel elit bibendum et imperdiet risus tincidunt. \n",
      "Etiam elit velit, posuere ut pulvinar ac, condimentum eget justo. Fusce a erat velit. Vivamus \n",
      "imperdiet ultrices orci in hendrerit.  \n",
      "\n"
     ]
    }
   ],
   "source": []
  },
  {
   "cell_type": "markdown",
   "metadata": {},
   "source": [
    "#### EXTRACT PDF TO TEXT VIA SPLITTER APP (FULL PIPELINE TEST)"
   ]
  },
  {
   "cell_type": "code",
   "execution_count": 23,
   "metadata": {},
   "outputs": [],
   "source": [
    "def test_extract_text_endpoint(url, pdf_path, app_api_key):\n",
    "    # Endpoint URL\n",
    "    endpoint = f\"{url}/extract-text/\"\n",
    "    print(f\"Sending POST request to {endpoint}\")\n",
    "\n",
    "    # Open the PDF file in binary mode\n",
    "    with open(pdf_path, 'rb') as pdf_file:\n",
    "        # Prepare the files for the request\n",
    "        files = {'file': ('test.pdf', pdf_file, 'application/pdf')}\n",
    "\n",
    "        # Send POST request to the endpoint\n",
    "        response = requests.post(\n",
    "            endpoint,\n",
    "            headers={\"X-API-Key\": app_api_key},\n",
    "            files=files\n",
    "        )\n",
    "\n",
    "    # Check the response\n",
    "    if response.status_code == 200:\n",
    "        print(\"Request successful!\")\n",
    "        text = json.loads(response.content)['text']\n",
    "        print(text)\n",
    "        return response\n",
    "    else:\n",
    "        print(f\"Request failed with status code: {response.status_code}\")\n",
    "        print(\"Error message:\", response.text)\n",
    "        return response"
   ]
  },
  {
   "cell_type": "code",
   "execution_count": 24,
   "metadata": {},
   "outputs": [
    {
     "name": "stdout",
     "output_type": "stream",
     "text": [
      "Sending POST request to https://ml-pdf-splitter-contapp.ashygrass-329b8f02.uksouth.azurecontainerapps.io/extract-text/\n",
      "Request failed with status code: 404\n",
      "Error message: {\"detail\":\"Not Found\"}\n"
     ]
    }
   ],
   "source": [
    "# TEST CASE 1\n",
    "pdf_path = \"../data/lorem_ipsum.pdf\"  # Adjust this to your PDF file's path\n",
    "response = test_extract_text_endpoint(service_url, pdf_path, app_api_key)\n"
   ]
  },
  {
   "cell_type": "code",
   "execution_count": 55,
   "metadata": {},
   "outputs": [
    {
     "name": "stdout",
     "output_type": "stream",
     "text": [
      "Sending POST request to https://ml-pdf-splitter-ml-env-3.thankfulwater-80ea82bb.uksouth.azurecontainerapps.io/extract-text/\n",
      "Request successful!\n",
      "________________________________________________________________________________ \n",
      " Private Car Motor Insurance\n",
      "Insurance Product Information Document\n",
      "This insurance is underwritten by ERS (Syndicate 218 at Lloyd’s) which is registered in the UK. ERS Syndicate Management Limited is authorised by\n",
      "the Prudential Regulation Authority and regulated by the Financial Conduct Authority and Prudential Regulation Authority. Registered number: 204851.\n",
      "This document provides a summary of the key information. It does not contain the full terms and conditions; these can be found in your policy document.\n",
      "You can find your policy document at www.ers.com.\n",
      "What is this type of insurance?\n",
      "Comprehensive cover – You are covered for loss or damage caused by accidental damage, fire, theft and third party liability cover.\n",
      "What is insured?\n",
      "Whilst driving your vehicle you will be covered for any\n",
      "one claim or claims arising out of one incident following:\n",
      "Property damage up to £20,000,000;\n",
      "Property damage costs/expenses up to £5,000,000;\n",
      "Legal costs up to £35,000.\n",
      "Third Party Cover for driving other vehicles is provided\n",
      "when shown on your motor certificate.\n",
      "Loss of or damage to your vehicle as shown in your\n",
      "schedule for accidental damage, fire and theft. We will\n",
      "either cover your costs to repair, pay a cash amount to\n",
      "replace or replace the lost or damaged item. The most we\n",
      "will pay for the loss of or damage to your vehicle is up to\n",
      "the value shown on your schedule.\n",
      "Damage to your windscreen or windows is provided.\n",
      "Loss of keys and replacing locks for your vehicle if lost\n",
      "or stolen and have not been recovered up to £500,\n",
      "provided you let the police know and the address where\n",
      "the vehicle is kept would be known to any person who has\n",
      "your keys or lock transponder.\n",
      "Childs seats (or booster seat) will be replaced up to\n",
      "£150 if it was in your vehicle at the time of an accident or\n",
      "theft.\n",
      "Medical expenses for you or anyone who is injured while\n",
      "they are in your vehicle as a result of an accident up to\n",
      "£200.\n",
      "Personal Accident cover for you or your husband, wife or\n",
      "civil partner, if involved in an accident and within three\n",
      "months of that accident it is the only cause of death or\n",
      "injury. The most we will pay in any period of insurance is\n",
      "£7,000.\n",
      "Death £7,000\n",
      "Loss of any limb or permanent loss of sight in one or both\n",
      "eyes £5,000\n",
      "Personal belongings lost or damaged in or on your\n",
      "vehicle caused by an accident, fire, theft or attempted\n",
      "theft.\n",
      "What is not insured?\n",
      "Your policy excesses as shown in policy documentation.\n",
      "Compensation for not being able to use your vehicle.\n",
      "Damage or loss due to wear and tear, failures,\n",
      "breakdowns or breakages of mechanical, electrical or\n",
      "computer equipment.\n",
      "Damage to your tyres unless caused by an accident to\n",
      "your vehicle.\n",
      "Any accessories not permanently attached to your vehicle.\n",
      "Loss or damage to your vehicle as a result of deception.\n",
      "Loss or damage by theft or attempted theft if left unlocked\n",
      "or the keys left in or on your vehicle.\n",
      "Loss or damage to your vehicle taken without consent by\n",
      "a member of your immediate family or a person living in\n",
      "your home, unless that person is convicted of theft.\n",
      "Loss of fuel or damage caused by incorrect fuel being\n",
      "used.\n",
      "For Personal Accident, death or injury caused by\n",
      "suicide, attempted suicide, or where anyone is 70 or older\n",
      "at the time of the incident.\n",
      "Any legal liability, loss or damage if driving whilst under\n",
      "the influence of alcohol or drugs.\n",
      "Loss or damage covered by another insurance policy.\n",
      "N.B. Please refer to your policy wording for full terms\n",
      "and conditions.\n",
      "Are there any restrictions on cover?\n",
      "Endorsements may apply to your policy, these will be\n",
      "shown in your policy documents.\n",
      "If a claim is made which you or anyone acting on your\n",
      "behalf knows is false, fraudulent, exaggerated, or provides\n",
      "false or stolen documents to support a claim we will not\n",
      "pay the claim and cover under this insurance will end.\n",
      "Where the driving other vehicles benefit applies, the\n",
      "vehicle you are driving must be insured in its own right.\n",
      "ERS Syndicate 218 at Lloyd’s is managed by ERS Syndicate Management Limited (company no. 00426475), which is authorised by the Prudential Regulation Authority and regulated by the Financial Conduct Authority and the Prudential\n",
      "Regulation Authority (firm reference no. 204851). ERS Syndicate Management Limited is registered in England and Wales with its registered address at 21 Lombard Street, London, EC3V 9AH.\n",
      "Where am I covered?\n",
      "We will provide the cover shown on your schedule for up to 60 days per trip while you are using your vehicle in the European Union,\n",
      "Andorra, Iceland, Norway, Serbia or Switzerland (including Liechtenstein).\n",
      "Your permanent home must be in Great Britain, Northern Ireland, the Channel Islands or the Isle of Man and your visit to these countries\n",
      "must be temporary.\n",
      "We can provide full policy cover when you travel abroad or additional countries for which we have agreed to.\n",
      "What are my obligations?\n",
      "•\n",
      "Your premium is based on the information you gave at the start of the insurance and when it is renewed. If you have failed to give us\n",
      "complete and accurate information, this could lead to us changing the terms of your policy, refusing your claim or the insurance not\n",
      "being valid.\n",
      "•\n",
      "In the event of a claim or possible claim:\n",
      "You will need to pay the agreed excess as shown in your schedule.\n",
      "If you choose to use a non-approved repairer, you will have to pay an additional excess of £250.\n",
      "•\n",
      "Windscreen excesses:\n",
      "If your windscreen is replaced by our approved supplier, you must pay the first £75 of any claim.\n",
      "If your windscreen is repaired by our approved supplier, you must pay the first £10 of any claim.\n",
      "If your windscreen is repaired or replaced by any other company, you must pay the first £125 of any claim.\n",
      "•\n",
      "You must not admit to, negotiate on or refuse any claim unless you have our permission.\n",
      "•\n",
      "You must tell us immediately about any changes to the information you have already provided. Please contact your broker if you are not\n",
      "sure if information is relevant. If you don’t tell us about relevant changes, your insurance may not cover you fully, or at all.\n",
      "When and how do I pay?\n",
      "For full details of when and how you pay, you need to contact your broker directly.\n",
      "When does the cover start and end?\n",
      "Your insurance is a 12 month contract which may be renewed each year. Renewal will be subject to the terms and conditions that apply at\n",
      "the time of renewal.\n",
      "Your insurance cover start and end dates will be shown on your policy schedule and certificate of motor insurance.\n",
      "How do I cancel the contract?\n",
      "You may cancel the insurance at any time by informing your broker.\n",
      "If you change your mind about this insurance, you must advise us within 14 days of the start date. Provided your vehicle has not been\n",
      "subject of a claim, we will make a charge equal to the period of cover you have had, but this charge will be subject to a minimum amount of\n",
      "£25 plus Insurance Premium Tax.\n",
      "ERS Syndicate 218 at Lloyd’s is managed by ERS Syndicate Management Limited (company no. 00426475), which is authorised by the Prudential Regulation Authority and regulated by the Financial Conduct Authority and the Prudential\n",
      "Regulation Authority (firm reference no. 204851). ERS Syndicate Management Limited is registered in England and Wales with its registered address at 21 Lombard Street, London, EC3V 9AH.\n",
      "\n"
     ]
    }
   ],
   "source": [
    "# TEST CASE 2\n",
    "pdf_path = \"../data/(1000679622) IPID - Private Car Quote from ERS_120149420.pdf\"  # Adjust this to your PDF file's path\n",
    "print(f\"Sending POST request to {service_url}/extract-text/\")\n",
    "response = test_extract_text_endpoint(service_url, pdf_path, app_api_key)\n",
    "text = json.loads(response.content)['text']\n",
    "print('_' * 80, '\\n', text)"
   ]
  },
  {
   "cell_type": "code",
   "execution_count": null,
   "metadata": {},
   "outputs": [],
   "source": []
  }
 ],
 "metadata": {
  "kernelspec": {
   "display_name": "ml-policy-summary-flow-j7Q9drHI",
   "language": "python",
   "name": "python3"
  },
  "language_info": {
   "codemirror_mode": {
    "name": "ipython",
    "version": 3
   },
   "file_extension": ".py",
   "mimetype": "text/x-python",
   "name": "python",
   "nbconvert_exporter": "python",
   "pygments_lexer": "ipython3",
   "version": "3.12.10"
  }
 },
 "nbformat": 4,
 "nbformat_minor": 2
}
