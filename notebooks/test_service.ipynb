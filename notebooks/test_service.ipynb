{
 "cells": [
  {
   "cell_type": "code",
   "execution_count": 4,
   "metadata": {},
   "outputs": [],
   "source": [
    "import requests"
   ]
  },
  {
   "cell_type": "code",
   "execution_count": 8,
   "metadata": {},
   "outputs": [],
   "source": [
    "service_url=\"http://ml-pdf-splitter.rnwl-backend-services.local:5006\" #Run on development server in test environment (development-test)"
   ]
  },
  {
   "cell_type": "code",
   "execution_count": 6,
   "metadata": {},
   "outputs": [],
   "source": [
    "service_url=\"http://localhost:5006\""
   ]
  },
  {
   "cell_type": "code",
   "execution_count": 24,
   "metadata": {},
   "outputs": [],
   "source": [
    "def load_pdf_as_bytes(file_path):\n",
    "    with open(file_path, 'rb') as file:\n",
    "        return file.read()\n",
    "\n",
    "# Usage example\n",
    "pdf_path = '../data/lorem_ipsum.pdf'\n",
    "pdf_bytes = load_pdf_as_bytes(pdf_path)"
   ]
  },
  {
   "cell_type": "code",
   "execution_count": 25,
   "metadata": {},
   "outputs": [
    {
     "data": {
      "text/plain": [
       "b'{\"status\":\"OK\"}'"
      ]
     },
     "execution_count": 25,
     "metadata": {},
     "output_type": "execute_result"
    }
   ],
   "source": [
    "requests.get(f'{service_url}/status').content"
   ]
  },
  {
   "cell_type": "code",
   "execution_count": 26,
   "metadata": {},
   "outputs": [
    {
     "data": {
      "text/plain": [
       "{'status': 'ok',\n",
       " 'message': 'Service is running and can access the PDF extraction API',\n",
       " 'pdf_extraction_api': 'accessible',\n",
       " 'test_response': {'stage': 'test',\n",
       "  'time_taken': 0.06227922439575195,\n",
       "  'arn_version': 'arn:aws:lambda:eu-west-2:306232495635:function:ExtractTextFromPDF2:test',\n",
       "  'function_version': '$LATEST',\n",
       "  'pdf_id': 0,\n",
       "  'text': 'Test\\xa0document\\xa0PDF\\xa0\\n\\xa0\\nLorem\\xa0ipsum\\xa0dolor\\xa0sit\\xa0amet,\\xa0consectetur\\xa0adipiscing\\xa0elit.\\xa0Nulla\\xa0est\\xa0purus,\\xa0ultrices\\xa0in\\xa0porttitor\\xa0\\nin,\\xa0accumsan\\xa0non\\xa0quam.\\xa0Nam\\xa0consectetur\\xa0porttitor\\xa0rhoncus.\\xa0Curabitur\\xa0eu\\xa0est\\xa0et\\xa0leo\\xa0feugiat\\xa0\\nauctor\\xa0vel\\xa0quis\\xa0lorem.\\xa0Ut\\xa0et\\xa0ligula\\xa0dolor,\\xa0sit\\xa0amet\\xa0consequat\\xa0lorem.\\xa0Aliquam\\xa0porta\\xa0eros\\xa0sed\\xa0\\nvelit\\xa0imperdiet\\xa0egestas.\\xa0Maecenas\\xa0tempus\\xa0eros\\xa0ut\\xa0diam\\xa0ullamcorper\\xa0id\\xa0dictum\\xa0libero\\xa0\\ntempor.\\xa0Donec\\xa0quis\\xa0augue\\xa0quis\\xa0magna\\xa0condimentum\\xa0lobortis.\\xa0Quisque\\xa0imperdiet\\xa0ipsum\\xa0vel\\xa0\\nmagna\\xa0viverra\\xa0rutrum.\\xa0Cras\\xa0viverra\\xa0molestie\\xa0urna,\\xa0vitae\\xa0vestibulum\\xa0turpis\\xa0varius\\xa0id.\\xa0\\nVestibulum\\xa0mollis,\\xa0arcu\\xa0iaculis\\xa0bibendum\\xa0varius,\\xa0velit\\xa0sapien\\xa0blandit\\xa0metus,\\xa0ac\\xa0posuere\\xa0lorem\\xa0\\nnulla\\xa0ac\\xa0dolor.\\xa0Maecenas\\xa0urna\\xa0elit,\\xa0tincidunt\\xa0in\\xa0dapibus\\xa0nec,\\xa0vehicula\\xa0eu\\xa0dui.\\xa0Duis\\xa0lacinia\\xa0\\nfringilla\\xa0massa.\\xa0Cum\\xa0sociis\\xa0natoque\\xa0penatibus\\xa0et\\xa0magnis\\xa0dis\\xa0parturient\\xa0montes,\\xa0nascetur\\xa0\\nridiculus\\xa0mus.\\xa0Ut\\xa0consequat\\xa0ultricies\\xa0est,\\xa0non\\xa0rhoncus\\xa0mauris\\xa0congue\\xa0porta.\\xa0Vivamus\\xa0viverra\\xa0\\nsuscipit\\xa0felis\\xa0eget\\xa0condimentum.\\xa0Cum\\xa0sociis\\xa0natoque\\xa0penatibus\\xa0et\\xa0magnis\\xa0dis\\xa0parturient\\xa0\\nmontes,\\xa0nascetur\\xa0ridiculus\\xa0mus.\\xa0Integer\\xa0bibendum\\xa0sagittis\\xa0ligula,\\xa0non\\xa0faucibus\\xa0nulla\\xa0volutpat\\xa0\\nvitae.\\xa0Cum\\xa0sociis\\xa0natoque\\xa0penatibus\\xa0et\\xa0magnis\\xa0dis\\xa0parturient\\xa0montes,\\xa0nascetur\\xa0ridiculus\\xa0mus.\\xa0\\xa0\\nIn\\xa0aliquet\\xa0quam\\xa0et\\xa0velit\\xa0bibendum\\xa0accumsan.\\xa0Cum\\xa0sociis\\xa0natoque\\xa0penatibus\\xa0et\\xa0magnis\\xa0dis\\xa0\\nparturient\\xa0montes,\\xa0nascetur\\xa0ridiculus\\xa0mus.\\xa0Vestibulum\\xa0vitae\\xa0ipsum\\xa0nec\\xa0arcu\\xa0semper\\xa0\\nadipiscing\\xa0at\\xa0ac\\xa0lacus.\\xa0Praesent\\xa0id\\xa0pellentesque\\xa0orci.\\xa0Morbi\\xa0congue\\xa0viverra\\xa0nisl\\xa0nec\\xa0rhoncus.\\xa0\\nInteger\\xa0mattis,\\xa0ipsum\\xa0a\\xa0tincidunt\\xa0commodo,\\xa0lacus\\xa0arcu\\xa0elementum\\xa0elit,\\xa0at\\xa0mollis\\xa0eros\\xa0ante\\xa0ac\\xa0\\nrisus.\\xa0In\\xa0volutpat,\\xa0ante\\xa0at\\xa0pretium\\xa0ultricies,\\xa0velit\\xa0magna\\xa0suscipit\\xa0enim,\\xa0aliquet\\xa0blandit\\xa0massa\\xa0\\norci\\xa0nec\\xa0lorem.\\xa0Nulla\\xa0facilisi.\\xa0Duis\\xa0eu\\xa0vehicula\\xa0arcu.\\xa0Nulla\\xa0facilisi.\\xa0Maecenas\\xa0pellentesque\\xa0\\nvolutpat\\xa0felis,\\xa0quis\\xa0tristique\\xa0ligula\\xa0luctus\\xa0vel.\\xa0Sed\\xa0nec\\xa0mi\\xa0eros.\\xa0Integer\\xa0augue\\xa0enim,\\xa0sollicitudin\\xa0\\nullamcorper\\xa0mattis\\xa0eget,\\xa0aliquam\\xa0in\\xa0est.\\xa0Morbi\\xa0sollicitudin\\xa0libero\\xa0nec\\xa0augue\\xa0dignissim\\xa0ut\\xa0\\nconsectetur\\xa0dui\\xa0volutpat.\\xa0Nulla\\xa0facilisi.\\xa0Mauris\\xa0egestas\\xa0vestibulum\\xa0neque\\xa0cursus\\xa0tincidunt.\\xa0\\nDonec\\xa0sit\\xa0amet\\xa0pulvinar\\xa0orci.\\xa0\\xa0\\nQuisque\\xa0volutpat\\xa0pharetra\\xa0tincidunt.\\xa0Fusce\\xa0sapien\\xa0arcu,\\xa0molestie\\xa0eget\\xa0varius\\xa0egestas,\\xa0\\nfaucibus\\xa0ac\\xa0urna.\\xa0Sed\\xa0at\\xa0nisi\\xa0in\\xa0velit\\xa0egestas\\xa0aliquam\\xa0ut\\xa0a\\xa0felis.\\xa0Aenean\\xa0malesuada\\xa0iaculis\\xa0nisl,\\xa0\\nut\\xa0tempor\\xa0lacus\\xa0egestas\\xa0consequat.\\xa0Nam\\xa0nibh\\xa0lectus,\\xa0gravida\\xa0sed\\xa0egestas\\xa0ut,\\xa0feugiat\\xa0quis\\xa0\\ndolor.\\xa0Donec\\xa0eu\\xa0leo\\xa0enim,\\xa0non\\xa0laoreet\\xa0ante.\\xa0Morbi\\xa0dictum\\xa0tempor\\xa0vulputate.\\xa0Phasellus\\xa0\\nultricies\\xa0risus\\xa0vel\\xa0augue\\xa0sagittis\\xa0euismod.\\xa0Vivamus\\xa0tincidunt\\xa0placerat\\xa0nisi\\xa0in\\xa0aliquam.\\xa0Cras\\xa0\\nquis\\xa0mi\\xa0ac\\xa0nunc\\xa0pretium\\xa0aliquam.\\xa0Aenean\\xa0elementum\\xa0erat\\xa0ac\\xa0metus\\xa0commodo\\xa0rhoncus.\\xa0\\nAliquam\\xa0nulla\\xa0augue,\\xa0porta\\xa0non\\xa0sagittis\\xa0quis,\\xa0accumsan\\xa0vitae\\xa0sem.\\xa0Phasellus\\xa0id\\xa0lectus\\xa0tortor,\\xa0\\neget\\xa0pulvinar\\xa0augue.\\xa0Etiam\\xa0eget\\xa0velit\\xa0ac\\xa0purus\\xa0fringilla\\xa0blandit.\\xa0Donec\\xa0odio\\xa0odio,\\xa0sagittis\\xa0sed\\xa0\\niaculis\\xa0sed,\\xa0consectetur\\xa0eget\\xa0sem.\\xa0Lorem\\xa0ipsum\\xa0dolor\\xa0sit\\xa0amet,\\xa0consectetur\\xa0adipiscing\\xa0elit.\\xa0\\nMaecenas\\xa0accumsan\\xa0velit\\xa0vel\\xa0turpis\\xa0rutrum\\xa0in\\xa0sodales\\xa0diam\\xa0placerat.\\xa0\\xa0\\nQuisque\\xa0luctus\\xa0ullamcorper\\xa0velit\\xa0sit\\xa0amet\\xa0lobortis.\\xa0Etiam\\xa0ligula\\xa0felis,\\xa0vulputate\\xa0quis\\xa0rhoncus\\xa0\\nnec,\\xa0fermentum\\xa0eget\\xa0odio.\\xa0Vivamus\\xa0vel\\xa0ipsum\\xa0ac\\xa0augue\\xa0sodales\\xa0mollis\\xa0euismod\\xa0nec\\xa0tellus.\\xa0\\nFusce\\xa0et\\xa0augue\\xa0rutrum\\xa0nunc\\xa0semper\\xa0vehicula\\xa0vel\\xa0semper\\xa0nisl.\\xa0Nam\\xa0laoreet\\xa0euismod\\xa0quam\\xa0at\\xa0\\nvarius.\\xa0Sed\\xa0aliquet\\xa0auctor\\xa0nibh.\\xa0Curabitur\\xa0malesuada\\xa0fermentum\\xa0lacus\\xa0vel\\xa0accumsan.\\xa0Duis\\xa0\\nornare\\xa0scelerisque\\xa0nulla,\\xa0ac\\xa0pulvinar\\xa0ligula\\xa0tempus\\xa0sit\\xa0amet.\\xa0In\\xa0placerat\\xa0nulla\\xa0ac\\xa0ante\\xa0\\nscelerisque\\xa0posuere.\\xa0Phasellus\\xa0at\\xa0ante\\xa0felis.\\xa0Sed\\xa0hendrerit\\xa0risus\\xa0a\\xa0metus\\xa0posuere\\xa0rutrum.\\xa0\\nPhasellus\\xa0eu\\xa0augue\\xa0dui.\\xa0Proin\\xa0in\\xa0vestibulum\\xa0ipsum.\\xa0Aenean\\xa0accumsan\\xa0mollis\\xa0sapien,\\xa0ut\\xa0\\neleifend\\xa0sem\\xa0blandit\\xa0at.\\xa0Vivamus\\xa0luctus\\xa0mi\\xa0eget\\xa0lorem\\xa0lobortis\\xa0pharetra.\\xa0Phasellus\\xa0at\\xa0tortor\\xa0\\nquam,\\xa0a\\xa0volutpat\\xa0purus.\\xa0Etiam\\xa0sollicitudin\\xa0arcu\\xa0vel\\xa0elit\\xa0bibendum\\xa0et\\xa0imperdiet\\xa0risus\\xa0tincidunt.\\xa0\\nEtiam\\xa0elit\\xa0velit,\\xa0posuere\\xa0ut\\xa0pulvinar\\xa0ac,\\xa0condimentum\\xa0eget\\xa0justo.\\xa0Fusce\\xa0a\\xa0erat\\xa0velit.\\xa0Vivamus\\xa0\\nimperdiet\\xa0ultrices\\xa0orci\\xa0in\\xa0hendrerit.\\xa0\\xa0\\n'}}"
      ]
     },
     "execution_count": 26,
     "metadata": {},
     "output_type": "execute_result"
    }
   ],
   "source": [
    "import json\n",
    "response = requests.get(f'{service_url}/lambda_status').content\n",
    "json.loads(response)"
   ]
  },
  {
   "cell_type": "code",
   "execution_count": 27,
   "metadata": {},
   "outputs": [
    {
     "name": "stdout",
     "output_type": "stream",
     "text": [
      "EXTRACTED TEXT: \n",
      "\n",
      "Test document PDF \n",
      " \n",
      "Lorem ipsum dolor sit amet, consectetur adipiscing elit. Nulla est purus, ultrices in porttitor \n",
      "in, accumsan non quam. Nam consectetur porttitor rhoncus. Curabitur eu est et leo feugiat \n",
      "auctor vel quis lorem. Ut et ligula dolor, sit amet consequat lorem. Aliquam porta eros sed \n",
      "velit imperdiet egestas. Maecenas tempus eros ut diam ullamcorper id dictum libero \n",
      "tempor. Donec quis augue quis magna condimentum lobortis. Quisque imperdiet ipsum vel \n",
      "magna viverra rutrum. Cras viverra molestie urna, vitae vestibulum turpis varius id. \n",
      "Vestibulum mollis, arcu iaculis bibendum varius, velit sapien blandit metus, ac posuere lorem \n",
      "nulla ac dolor. Maecenas urna elit, tincidunt in dapibus nec, vehicula eu dui. Duis lacinia \n",
      "fringilla massa. Cum sociis natoque penatibus et magnis dis parturient montes, nascetur \n",
      "ridiculus mus. Ut consequat ultricies est, non rhoncus mauris congue porta. Vivamus viverra \n",
      "suscipit felis eget condimentum. Cum sociis natoque penatibus et magnis dis parturient \n",
      "montes, nascetur ridiculus mus. Integer bibendum sagittis ligula, non faucibus nulla volutpat \n",
      "vitae. Cum sociis natoque penatibus et magnis dis parturient montes, nascetur ridiculus mus.  \n",
      "In aliquet quam et velit bibendum accumsan. Cum sociis natoque penatibus et magnis dis \n",
      "parturient montes, nascetur ridiculus mus. Vestibulum vitae ipsum nec arcu semper \n",
      "adipiscing at ac lacus. Praesent id pellentesque orci. Morbi congue viverra nisl nec rhoncus. \n",
      "Integer mattis, ipsum a tincidunt commodo, lacus arcu elementum elit, at mollis eros ante ac \n",
      "risus. In volutpat, ante at pretium ultricies, velit magna suscipit enim, aliquet blandit massa \n",
      "orci nec lorem. Nulla facilisi. Duis eu vehicula arcu. Nulla facilisi. Maecenas pellentesque \n",
      "volutpat felis, quis tristique ligula luctus vel. Sed nec mi eros. Integer augue enim, sollicitudin \n",
      "ullamcorper mattis eget, aliquam in est. Morbi sollicitudin libero nec augue dignissim ut \n",
      "consectetur dui volutpat. Nulla facilisi. Mauris egestas vestibulum neque cursus tincidunt. \n",
      "Donec sit amet pulvinar orci.  \n",
      "Quisque volutpat pharetra tincidunt. Fusce sapien arcu, molestie eget varius egestas, \n",
      "faucibus ac urna. Sed at nisi in velit egestas aliquam ut a felis. Aenean malesuada iaculis nisl, \n",
      "ut tempor lacus egestas consequat. Nam nibh lectus, gravida sed egestas ut, feugiat quis \n",
      "dolor. Donec eu leo enim, non laoreet ante. Morbi dictum tempor vulputate. Phasellus \n",
      "ultricies risus vel augue sagittis euismod. Vivamus tincidunt placerat nisi in aliquam. Cras \n",
      "quis mi ac nunc pretium aliquam. Aenean elementum erat ac metus commodo rhoncus. \n",
      "Aliquam nulla augue, porta non sagittis quis, accumsan vitae sem. Phasellus id lectus tortor, \n",
      "eget pulvinar augue. Etiam eget velit ac purus fringilla blandit. Donec odio odio, sagittis sed \n",
      "iaculis sed, consectetur eget sem. Lorem ipsum dolor sit amet, consectetur adipiscing elit. \n",
      "Maecenas accumsan velit vel turpis rutrum in sodales diam placerat.  \n",
      "Quisque luctus ullamcorper velit sit amet lobortis. Etiam ligula felis, vulputate quis rhoncus \n",
      "nec, fermentum eget odio. Vivamus vel ipsum ac augue sodales mollis euismod nec tellus. \n",
      "Fusce et augue rutrum nunc semper vehicula vel semper nisl. Nam laoreet euismod quam at \n",
      "varius. Sed aliquet auctor nibh. Curabitur malesuada fermentum lacus vel accumsan. Duis \n",
      "ornare scelerisque nulla, ac pulvinar ligula tempus sit amet. In placerat nulla ac ante \n",
      "scelerisque posuere. Phasellus at ante felis. Sed hendrerit risus a metus posuere rutrum. \n",
      "Phasellus eu augue dui. Proin in vestibulum ipsum. Aenean accumsan mollis sapien, ut \n",
      "eleifend sem blandit at. Vivamus luctus mi eget lorem lobortis pharetra. Phasellus at tortor \n",
      "quam, a volutpat purus. Etiam sollicitudin arcu vel elit bibendum et imperdiet risus tincidunt. \n",
      "Etiam elit velit, posuere ut pulvinar ac, condimentum eget justo. Fusce a erat velit. Vivamus \n",
      "imperdiet ultrices orci in hendrerit.  \n",
      "\n"
     ]
    }
   ],
   "source": [
    "print(f\"EXTRACTED TEXT: \\n\\n{json.loads(response)['test_response']['text']}\")"
   ]
  },
  {
   "cell_type": "code",
   "execution_count": 10,
   "metadata": {},
   "outputs": [
    {
     "data": {
      "text/plain": [
       "b'[{\"name\":\"Audio, navigation or entertainment equipment\",\"value\":null,\"extractedText\":\"\",\"fileName\":\"unknown\",\"insuranceType\":\"car\",\"promptId\":\"1.0class_1.0common_1.0template\",\"modelId\":\"gpt-3.5-turbo-16k\",\"textExtractorId\":\"$LATEST\"},{\"name\":\"Breakdown\",\"value\":\"False\",\"extractedText\":\"policy upgrades, such as Breakdown Cover.\",\"fileName\":\"resultId_0b679ebc-a2d3-45a3-875d-a94239377ec1_Admiral Motor Cover IPID(1).pdf\",\"insuranceType\":\"car\",\"promptId\":\"1.0class_1.0common_1.0template\",\"modelId\":\"gpt-3.5-turbo-16k\",\"textExtractorId\":\"$LATEST\"},{\"name\":\"Driving abroad\",\"value\":\"90 days\",\"extractedText\":\"described in your Certificate of Motor Insurance for 90 days when travelling in any country which is a member of the European Union, Norway, Switzerland, Iceland, Andorra and Liechtenstein.\",\"fileName\":\"resultId_0b679ebc-a2d3-45a3-875d-a94239377ec1_Admiral Motor Cover IPID(1).pdf\",\"insuranceType\":\"car\",\"promptId\":\"1.0class_1.0common_1.0template\",\"modelId\":\"gpt-3.5-turbo-16k\",\"textExtractorId\":\"$LATEST\"},{\"name\":\"Personal belongings\",\"value\":\"\\xc2\\xa31,500\",\"extractedText\":\"Section 4 - Personal Belongings and Money Baggage ** \\xc2\\xa31,500 \\xc2\\xa32,000 \\xc2\\xa33,000\",\"fileName\":\"resultId_02565818-e282-42f7-a1fc-60d2831eb0fb_S&P IDOL Policy Wording 0922.pdf\",\"insuranceType\":\"car\",\"promptId\":\"1.0class_1.0common_1.0template\",\"modelId\":\"gpt-3.5-turbo-16k\",\"textExtractorId\":\"$LATEST\"},{\"name\":\"Personal accident\",\"value\":\"\\xc2\\xa310,000\",\"extractedText\":\"Section 6 - Personal Accident Death (aged 18 or over) \\xc2\\xa310,000 \\xc2\\xa310,000 \\xc2\\xa320,000\",\"fileName\":\"resultId_02565818-e282-42f7-a1fc-60d2831eb0fb_S&P IDOL Policy Wording 0922.pdf\",\"insuranceType\":\"car\",\"promptId\":\"1.0class_1.0common_1.0template\",\"modelId\":\"gpt-3.5-turbo-16k\",\"textExtractorId\":\"$LATEST\"},{\"name\":\"Legal assistance\",\"value\":\"\\xc2\\xa320,000\",\"extractedText\":\"Legal expenses and assistance * \\xc2\\xa320,000 \\xc2\\xa325,000 \\xc2\\xa335,000\",\"fileName\":\"resultId_02565818-e282-42f7-a1fc-60d2831eb0fb_S&P IDOL Policy Wording 0922.pdf\",\"insuranceType\":\"car\",\"promptId\":\"1.0class_1.0common_1.0template\",\"modelId\":\"gpt-3.5-turbo-16k\",\"textExtractorId\":\"$LATEST\"},{\"name\":\"Adjustment fee\",\"value\":null,\"extractedText\":\"\",\"fileName\":\"unknown\",\"insuranceType\":\"car\",\"promptId\":\"1.0class_1.0common_1.0template\",\"modelId\":\"gpt-3.5-turbo-16k\",\"textExtractorId\":\"$LATEST\"},{\"name\":\"Locks & keys\",\"value\":\"\\xc2\\xa3300\",\"extractedText\":\"If you lose your car keys or if they\\xe2\\x80\\x99re stolen from somewhere other than your car, we\\xe2\\x80\\x99ll pay you up to \\xc2\\xa3300 to replace the locks.\",\"fileName\":\"resultId_0b679ebc-a2d3-45a3-875d-a94239377ec1_Admiral Motor Cover IPID(1).pdf\",\"insuranceType\":\"car\",\"promptId\":\"1.0class_1.0common_1.0template\",\"modelId\":\"gpt-3.5-turbo-16k\",\"textExtractorId\":\"$LATEST\"},{\"name\":\"Cancellation fee\",\"value\":\"65% of the premium paid\",\"extractedText\":\"If you cancel a single trip policy after the first 14 days of receipt of the documents, we refund 65% of the premium paid, providing you have not travelled and made a claim or intend to make a claim.\",\"fileName\":\"resultId_02565818-e282-42f7-a1fc-60d2831eb0fb_S&P IDOL Policy Wording 0922.pdf\",\"insuranceType\":\"car\",\"promptId\":\"1.0class_1.0common_1.0template\",\"modelId\":\"gpt-3.5-turbo-16k\",\"textExtractorId\":\"$LATEST\"},{\"name\":\"Courtesy car\",\"value\":\"not provided if yours is stolen or is a total loss\",\"extractedText\":\"A courtesy car is not provided if yours is stolen or is a total loss.\",\"fileName\":\"resultId_0b679ebc-a2d3-45a3-875d-a94239377ec1_Admiral Motor Cover IPID(1).pdf\",\"insuranceType\":\"car\",\"promptId\":\"1.0class_1.0common_1.0template\",\"modelId\":\"gpt-3.5-turbo-16k\",\"textExtractorId\":\"$LATEST\"}]'"
      ]
     },
     "execution_count": 10,
     "metadata": {},
     "output_type": "execute_result"
    }
   ],
   "source": [
    "from pydantic import BaseModel\n",
    "\n",
    "class PolicySummaryRequest(BaseModel):\n",
    "    fileNames: list\n",
    "    insuranceType: str\n",
    "\n",
    "test_s3_filenames = [s3_uri.s3_object for s3_uri in test_s3_uris]\n",
    "policy_summary_request = PolicySummaryRequest(fileNames=test_s3_filenames, insuranceType='car')\n",
    "\n",
    "\n",
    "response = requests.post(f'{service_url}/extract/', json=policy_summary_request.model_dump())\n",
    "response.content"
   ]
  },
  {
   "cell_type": "code",
   "execution_count": null,
   "metadata": {},
   "outputs": [
    {
     "data": {
      "text/plain": [
       "[{'name': 'Breakdown',\n",
       "  'value': 'False',\n",
       "  'extractedText': 'policy upgrades, such as Breakdown Cover.',\n",
       "  'fileName': 'resultId_0b679ebc-a2d3-45a3-875d-a94239377ec1_Admiral Motor Cover IPID(1).pdf',\n",
       "  'insuranceType': 'car',\n",
       "  'promptId': '1.0class_1.0common_1.0template',\n",
       "  'modelId': 'gpt-3.5-turbo-16k',\n",
       "  'textExtractorId': '$LATEST'},\n",
       " {'name': 'Audio, navigation or entertainment equipment',\n",
       "  'value': None,\n",
       "  'extractedText': '',\n",
       "  'fileName': 'unknown',\n",
       "  'insuranceType': 'car',\n",
       "  'promptId': '1.0class_1.0common_1.0template',\n",
       "  'modelId': 'gpt-3.5-turbo-16k',\n",
       "  'textExtractorId': '$LATEST'},\n",
       " {'name': 'Legal assistance',\n",
       "  'value': '£20,000',\n",
       "  'extractedText': 'Legal expenses and assistance * £20,000 £25,000 £35,000',\n",
       "  'fileName': 'resultId_02565818-e282-42f7-a1fc-60d2831eb0fb_S&P IDOL Policy Wording 0922.pdf',\n",
       "  'insuranceType': 'car',\n",
       "  'promptId': '1.0class_1.0common_1.0template',\n",
       "  'modelId': 'gpt-3.5-turbo-16k',\n",
       "  'textExtractorId': '$LATEST'},\n",
       " {'name': 'Personal belongings',\n",
       "  'value': '£1,500',\n",
       "  'extractedText': 'Section 4 - Personal Belongings and Money Baggage ** £1,500 £2,000 £3,000',\n",
       "  'fileName': 'resultId_02565818-e282-42f7-a1fc-60d2831eb0fb_S&P IDOL Policy Wording 0922.pdf',\n",
       "  'insuranceType': 'car',\n",
       "  'promptId': '1.0class_1.0common_1.0template',\n",
       "  'modelId': 'gpt-3.5-turbo-16k',\n",
       "  'textExtractorId': '$LATEST'},\n",
       " {'name': 'Driving abroad',\n",
       "  'value': '90 days',\n",
       "  'extractedText': 'described in your Certificate of Motor Insurance for 90 days when travelling in any country which is a member of the European Union, Norway, Switzerland, Iceland, Andorra and Liechtenstein.',\n",
       "  'fileName': 'resultId_0b679ebc-a2d3-45a3-875d-a94239377ec1_Admiral Motor Cover IPID(1).pdf',\n",
       "  'insuranceType': 'car',\n",
       "  'promptId': '1.0class_1.0common_1.0template',\n",
       "  'modelId': 'gpt-3.5-turbo-16k',\n",
       "  'textExtractorId': '$LATEST'},\n",
       " {'name': 'Personal accident',\n",
       "  'value': '£10,000',\n",
       "  'extractedText': 'Section 6 - Personal Accident Death (aged 18 or over) £10,000 £10,000 £20,000',\n",
       "  'fileName': 'resultId_02565818-e282-42f7-a1fc-60d2831eb0fb_S&P IDOL Policy Wording 0922.pdf',\n",
       "  'insuranceType': 'car',\n",
       "  'promptId': '1.0class_1.0common_1.0template',\n",
       "  'modelId': 'gpt-3.5-turbo-16k',\n",
       "  'textExtractorId': '$LATEST'},\n",
       " {'name': 'Adjustment fee',\n",
       "  'value': None,\n",
       "  'extractedText': '',\n",
       "  'fileName': 'unknown',\n",
       "  'insuranceType': 'car',\n",
       "  'promptId': '1.0class_1.0common_1.0template',\n",
       "  'modelId': 'gpt-3.5-turbo-16k',\n",
       "  'textExtractorId': '$LATEST'},\n",
       " {'name': 'Locks & keys',\n",
       "  'value': '£300',\n",
       "  'extractedText': 'If you lose your car keys or if they’re stolen from somewhere other than your car, we’ll pay you up to £300 to replace the locks.',\n",
       "  'fileName': 'resultId_0b679ebc-a2d3-45a3-875d-a94239377ec1_Admiral Motor Cover IPID(1).pdf',\n",
       "  'insuranceType': 'car',\n",
       "  'promptId': '1.0class_1.0common_1.0template',\n",
       "  'modelId': 'gpt-3.5-turbo-16k',\n",
       "  'textExtractorId': '$LATEST'},\n",
       " {'name': 'Courtesy car',\n",
       "  'value': 'not provided if yours is stolen or is a total loss',\n",
       "  'extractedText': 'A courtesy car is not provided if yours is stolen or is a total loss.',\n",
       "  'fileName': 'resultId_0b679ebc-a2d3-45a3-875d-a94239377ec1_Admiral Motor Cover IPID(1).pdf',\n",
       "  'insuranceType': 'car',\n",
       "  'promptId': '1.0class_1.0common_1.0template',\n",
       "  'modelId': 'gpt-3.5-turbo-16k',\n",
       "  'textExtractorId': '$LATEST'},\n",
       " {'name': 'Cancellation fee',\n",
       "  'value': '65% of the premium paid',\n",
       "  'extractedText': 'If you cancel a single trip policy after the first 14 days of receipt of the documents, we refund 65% of the premium paid, providing you have not travelled and made a claim or intend to make a claim.',\n",
       "  'fileName': 'resultId_02565818-e282-42f7-a1fc-60d2831eb0fb_S&P IDOL Policy Wording 0922.pdf',\n",
       "  'insuranceType': 'car',\n",
       "  'promptId': '1.0class_1.0common_1.0template',\n",
       "  'modelId': 'gpt-3.5-turbo-16k',\n",
       "  'textExtractorId': '$LATEST'}]"
      ]
     },
     "metadata": {},
     "output_type": "display_data"
    }
   ],
   "source": [
    "import json\n",
    "json.loads(response.content)"
   ]
  },
  {
   "cell_type": "code",
   "execution_count": 31,
   "metadata": {},
   "outputs": [
    {
     "name": "stdout",
     "output_type": "stream",
     "text": [
      "Request successful!\n"
     ]
    }
   ],
   "source": [
    "import requests\n",
    "\n",
    "def test_extract_text_endpoint(url, pdf_path):\n",
    "    # Endpoint URL\n",
    "    endpoint = f\"{url}/extract-text/\"\n",
    "\n",
    "    # Open the PDF file in binary mode\n",
    "    with open(pdf_path, 'rb') as pdf_file:\n",
    "        # Prepare the files for the request\n",
    "        files = {'file': ('test.pdf', pdf_file, 'application/pdf')}\n",
    "\n",
    "        # Send POST request to the endpoint\n",
    "        response = requests.post(endpoint, files=files)\n",
    "\n",
    "    # Check the response\n",
    "    if response.status_code == 200:\n",
    "        print(\"Request successful!\")\n",
    "        return response\n",
    "    else:\n",
    "        print(f\"Request failed with status code: {response.status_code}\")\n",
    "        print(\"Error message:\", response.text)\n",
    "\n",
    "# Usage\n",
    "pdf_path = \"../data/lorem_ipsum.pdf\"  # Adjust this to your PDF file's path\n",
    "\n",
    "response = test_extract_text_endpoint(service_url, pdf_path)"
   ]
  },
  {
   "cell_type": "code",
   "execution_count": 34,
   "metadata": {},
   "outputs": [
    {
     "name": "stdout",
     "output_type": "stream",
     "text": [
      "EXTRACTED TEXT: \n",
      "\n",
      "Test document PDF \n",
      " \n",
      "Lorem ipsum dolor sit amet, consectetur adipiscing elit. Nulla est purus, ultrices in porttitor \n",
      "in, accumsan non quam. Nam consectetur porttitor rhoncus. Curabitur eu est et leo feugiat \n",
      "auctor vel quis lorem. Ut et ligula dolor, sit amet consequat lorem. Aliquam porta eros sed \n",
      "velit imperdiet egestas. Maecenas tempus eros ut diam ullamcorper id dictum libero \n",
      "tempor. Donec quis augue quis magna condimentum lobortis. Quisque imperdiet ipsum vel \n",
      "magna viverra rutrum. Cras viverra molestie urna, vitae vestibulum turpis varius id. \n",
      "Vestibulum mollis, arcu iaculis bibendum varius, velit sapien blandit metus, ac posuere lorem \n",
      "nulla ac dolor. Maecenas urna elit, tincidunt in dapibus nec, vehicula eu dui. Duis lacinia \n",
      "fringilla massa. Cum sociis natoque penatibus et magnis dis parturient montes, nascetur \n",
      "ridiculus mus. Ut consequat ultricies est, non rhoncus mauris congue porta. Vivamus viverra \n",
      "suscipit felis eget condimentum. Cum sociis natoque penatibus et magnis dis parturient \n",
      "montes, nascetur ridiculus mus. Integer bibendum sagittis ligula, non faucibus nulla volutpat \n",
      "vitae. Cum sociis natoque penatibus et magnis dis parturient montes, nascetur ridiculus mus.  \n",
      "In aliquet quam et velit bibendum accumsan. Cum sociis natoque penatibus et magnis dis \n",
      "parturient montes, nascetur ridiculus mus. Vestibulum vitae ipsum nec arcu semper \n",
      "adipiscing at ac lacus. Praesent id pellentesque orci. Morbi congue viverra nisl nec rhoncus. \n",
      "Integer mattis, ipsum a tincidunt commodo, lacus arcu elementum elit, at mollis eros ante ac \n",
      "risus. In volutpat, ante at pretium ultricies, velit magna suscipit enim, aliquet blandit massa \n",
      "orci nec lorem. Nulla facilisi. Duis eu vehicula arcu. Nulla facilisi. Maecenas pellentesque \n",
      "volutpat felis, quis tristique ligula luctus vel. Sed nec mi eros. Integer augue enim, sollicitudin \n",
      "ullamcorper mattis eget, aliquam in est. Morbi sollicitudin libero nec augue dignissim ut \n",
      "consectetur dui volutpat. Nulla facilisi. Mauris egestas vestibulum neque cursus tincidunt. \n",
      "Donec sit amet pulvinar orci.  \n",
      "Quisque volutpat pharetra tincidunt. Fusce sapien arcu, molestie eget varius egestas, \n",
      "faucibus ac urna. Sed at nisi in velit egestas aliquam ut a felis. Aenean malesuada iaculis nisl, \n",
      "ut tempor lacus egestas consequat. Nam nibh lectus, gravida sed egestas ut, feugiat quis \n",
      "dolor. Donec eu leo enim, non laoreet ante. Morbi dictum tempor vulputate. Phasellus \n",
      "ultricies risus vel augue sagittis euismod. Vivamus tincidunt placerat nisi in aliquam. Cras \n",
      "quis mi ac nunc pretium aliquam. Aenean elementum erat ac metus commodo rhoncus. \n",
      "Aliquam nulla augue, porta non sagittis quis, accumsan vitae sem. Phasellus id lectus tortor, \n",
      "eget pulvinar augue. Etiam eget velit ac purus fringilla blandit. Donec odio odio, sagittis sed \n",
      "iaculis sed, consectetur eget sem. Lorem ipsum dolor sit amet, consectetur adipiscing elit. \n",
      "Maecenas accumsan velit vel turpis rutrum in sodales diam placerat.  \n",
      "Quisque luctus ullamcorper velit sit amet lobortis. Etiam ligula felis, vulputate quis rhoncus \n",
      "nec, fermentum eget odio. Vivamus vel ipsum ac augue sodales mollis euismod nec tellus. \n",
      "Fusce et augue rutrum nunc semper vehicula vel semper nisl. Nam laoreet euismod quam at \n",
      "varius. Sed aliquet auctor nibh. Curabitur malesuada fermentum lacus vel accumsan. Duis \n",
      "ornare scelerisque nulla, ac pulvinar ligula tempus sit amet. In placerat nulla ac ante \n",
      "scelerisque posuere. Phasellus at ante felis. Sed hendrerit risus a metus posuere rutrum. \n",
      "Phasellus eu augue dui. Proin in vestibulum ipsum. Aenean accumsan mollis sapien, ut \n",
      "eleifend sem blandit at. Vivamus luctus mi eget lorem lobortis pharetra. Phasellus at tortor \n",
      "quam, a volutpat purus. Etiam sollicitudin arcu vel elit bibendum et imperdiet risus tincidunt. \n",
      "Etiam elit velit, posuere ut pulvinar ac, condimentum eget justo. Fusce a erat velit. Vivamus \n",
      "imperdiet ultrices orci in hendrerit.  \n",
      "\n"
     ]
    }
   ],
   "source": [
    "print(f\"EXTRACTED TEXT: \\n\\n{json.loads(response.content)['text']}\")"
   ]
  },
  {
   "cell_type": "code",
   "execution_count": null,
   "metadata": {},
   "outputs": [],
   "source": []
  }
 ],
 "metadata": {
  "kernelspec": {
   "display_name": "ml-policy-summary-QfHojvpd",
   "language": "python",
   "name": "python3"
  },
  "language_info": {
   "codemirror_mode": {
    "name": "ipython",
    "version": 3
   },
   "file_extension": ".py",
   "mimetype": "text/x-python",
   "name": "python",
   "nbconvert_exporter": "python",
   "pygments_lexer": "ipython3",
   "version": "3.9.16"
  }
 },
 "nbformat": 4,
 "nbformat_minor": 2
}
